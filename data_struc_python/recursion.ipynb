{
 "cells": [
  {
   "cell_type": "code",
   "execution_count": null,
   "metadata": {},
   "outputs": [],
   "source": [
    "def factorial(n):\n",
    "    \n",
    "    #base case\n",
    "    if n == 0:\n",
    "        return 1\n",
    "    else:\n",
    "        return n * factorial(n-1)"
   ]
  },
  {
   "cell_type": "code",
   "execution_count": null,
   "metadata": {},
   "outputs": [],
   "source": [
    "factorial(6)"
   ]
  },
  {
   "cell_type": "code",
   "execution_count": null,
   "metadata": {},
   "outputs": [],
   "source": [
    "#a recursive function which performs n + (n-1) + (n-2) +....\n",
    "\n",
    "def rec_sum(num):\n",
    "    \n",
    "    #base case\n",
    "    \n",
    "    if num == 0:\n",
    "        return 0\n",
    "    else:\n",
    "        return num + rec_sum(num - 1)\n",
    "\n"
   ]
  },
  {
   "cell_type": "code",
   "execution_count": null,
   "metadata": {},
   "outputs": [],
   "source": [
    "rec_sum(1)"
   ]
  },
  {
   "cell_type": "code",
   "execution_count": null,
   "metadata": {},
   "outputs": [],
   "source": [
    "def sum_func(num):\n",
    "    sum = 0\n",
    "    \n",
    "    if num == 0:\n",
    "        return 0\n",
    "    else:\n",
    "        rem = num % 10\n",
    "        print(f\"the las digit:{rem}\")\n",
    "        sum += rem\n",
    "        print(f\"the sum so far:{sum}\")\n",
    "        num = num // 10\n",
    "        print(f\"updated num: {num}\")\n",
    "        return sum + sum_func(num)\n",
    "        \n",
    "    "
   ]
  },
  {
   "cell_type": "code",
   "execution_count": null,
   "metadata": {},
   "outputs": [],
   "source": [
    "sum_func(33256)"
   ]
  },
  {
   "cell_type": "code",
   "execution_count": 19,
   "metadata": {},
   "outputs": [],
   "source": [
    "def word_split(st, lst):\n",
    "    flag = 1\n",
    "    new_lst = []\n",
    "    if st == '':\n",
    "        return \"no phrase given\"\n",
    "    else:\n",
    "        \n",
    "        while flag != 0:\n",
    "            for each in lst:\n",
    "                if each in st:\n",
    "                    flag = 1\n",
    "\n",
    "                    if st.startswith(each):\n",
    "                        new_lst.append(each)\n",
    "                        st = st[len(each):]\n",
    "                    \n",
    "                else:\n",
    "                    flag = 0\n",
    "\n",
    "        return new_lst\n",
    "\n",
    "\n",
    "\n",
    "            \n",
    "   \n",
    "\n",
    "            \n"
   ]
  },
  {
   "cell_type": "code",
   "execution_count": 20,
   "metadata": {},
   "outputs": [
    {
     "data": {
      "text/plain": [
       "['the', 'man', 'ran']"
      ]
     },
     "execution_count": 20,
     "metadata": {},
     "output_type": "execute_result"
    }
   ],
   "source": [
    "word_split('themanran', ['the', 'ran', 'man'])"
   ]
  },
  {
   "cell_type": "code",
   "execution_count": 21,
   "metadata": {},
   "outputs": [
    {
     "data": {
      "text/plain": [
       "['i', 'love', 'dogs', 'john']"
      ]
     },
     "execution_count": 21,
     "metadata": {},
     "output_type": "execute_result"
    }
   ],
   "source": [
    "word_split('ilovedogsjohn',['i','am','dogs','lover','love','john'])"
   ]
  },
  {
   "cell_type": "code",
   "execution_count": null,
   "metadata": {},
   "outputs": [],
   "source": []
  },
  {
   "cell_type": "code",
   "execution_count": 22,
   "metadata": {},
   "outputs": [],
   "source": [
    "def word_split(st, lst):\n",
    "    \n",
    "    new_lst = []\n",
    "    if st == '':\n",
    "        return \"no phrase given\"\n",
    "    else:\n",
    "        \n",
    "        while st != '':\n",
    "            for each in lst:\n",
    "\n",
    "                    if st.startswith(each):\n",
    "                        new_lst.append(each)\n",
    "                        st = st[len(each):]\n",
    "                    \n",
    "                \n",
    "\n",
    "        return new_lst\n",
    "\n"
   ]
  },
  {
   "cell_type": "code",
   "execution_count": 24,
   "metadata": {},
   "outputs": [
    {
     "data": {
      "text/plain": [
       "['i', 'love', 'dogs', 'john']"
      ]
     },
     "execution_count": 24,
     "metadata": {},
     "output_type": "execute_result"
    }
   ],
   "source": [
    "word_split('ilovedogsjohn',['i','am','dogs','lover','love','john'])"
   ]
  },
  {
   "cell_type": "code",
   "execution_count": 48,
   "metadata": {},
   "outputs": [],
   "source": [
    "def word_split(st, lst,output = None):\n",
    "    \n",
    "    \n",
    "    if output is None:\n",
    "            output = []\n",
    "    \n",
    "        \n",
    "    for each in lst:\n",
    "\n",
    "            if st.startswith(each):\n",
    "                \n",
    "            \n",
    "                output.append(each)\n",
    "                return word_split(st[len(each):],lst,output)\n",
    "                   \n",
    "                    \n",
    "                \n",
    "\n",
    "    return output\n",
    "\n"
   ]
  },
  {
   "cell_type": "code",
   "execution_count": 49,
   "metadata": {},
   "outputs": [
    {
     "data": {
      "text/plain": [
       "['i', 'love', 'dogs', 'john']"
      ]
     },
     "execution_count": 49,
     "metadata": {},
     "output_type": "execute_result"
    }
   ],
   "source": [
    "word_split('ilovedogsjohn',['i','am','dogs','lover','love','john'])"
   ]
  },
  {
   "cell_type": "markdown",
   "metadata": {},
   "source": [
    "# Interview problem"
   ]
  },
  {
   "cell_type": "code",
   "execution_count": 130,
   "metadata": {},
   "outputs": [],
   "source": [
    "def reverses(s):\n",
    "    n = ''\n",
    "    if s == '':\n",
    "        return \"empty string\"\n",
    "    \n",
    "    for i in range(len(s)):\n",
    "        n += s[(len(s)-1)-i]\n",
    "    return n\n",
    "    "
   ]
  },
  {
   "cell_type": "code",
   "execution_count": 132,
   "metadata": {},
   "outputs": [
    {
     "data": {
      "text/plain": [
       "'oh gnirts'"
      ]
     },
     "execution_count": 132,
     "metadata": {},
     "output_type": "execute_result"
    }
   ],
   "source": [
    "reverses('string ho')\n"
   ]
  },
  {
   "cell_type": "code",
   "execution_count": null,
   "metadata": {},
   "outputs": [],
   "source": []
  },
  {
   "cell_type": "code",
   "execution_count": 134,
   "metadata": {},
   "outputs": [],
   "source": [
    "reverse('abc')"
   ]
  },
  {
   "cell_type": "code",
   "execution_count": 138,
   "metadata": {},
   "outputs": [],
   "source": [
    "def reverseed(t):\n",
    "    \n",
    "    if len(t) <= 1:\n",
    "        return t\n",
    "    \n",
    "    return reverseed(t[1:]) + t[0]"
   ]
  },
  {
   "cell_type": "code",
   "execution_count": 139,
   "metadata": {},
   "outputs": [
    {
     "data": {
      "text/plain": [
       "'dcba'"
      ]
     },
     "execution_count": 139,
     "metadata": {},
     "output_type": "execute_result"
    }
   ],
   "source": [
    "reverseed('abcd')"
   ]
  },
  {
   "cell_type": "code",
   "execution_count": 146,
   "metadata": {},
   "outputs": [],
   "source": [
    "def fibonacci(n):\n",
    "    if n == 0 or n == 1:\n",
    "        return n\n",
    "    else:\n",
    "        return fibonacci(n-1) + fibonacci(n-2)\n",
    "    "
   ]
  },
  {
   "cell_type": "code",
   "execution_count": 147,
   "metadata": {},
   "outputs": [
    {
     "data": {
      "text/plain": [
       "55"
      ]
     },
     "execution_count": 147,
     "metadata": {},
     "output_type": "execute_result"
    }
   ],
   "source": [
    "fibonacci(10)"
   ]
  },
  {
   "cell_type": "code",
   "execution_count": 148,
   "metadata": {},
   "outputs": [],
   "source": [
    "def fib_itr(n):\n",
    "    \n",
    "    a,b = 0,1\n",
    "    \n",
    "    for i in range(n):\n",
    "        a,b = b,a+b\n",
    "        \n",
    "    return a"
   ]
  },
  {
   "cell_type": "code",
   "execution_count": 149,
   "metadata": {},
   "outputs": [
    {
     "data": {
      "text/plain": [
       "55"
      ]
     },
     "execution_count": 149,
     "metadata": {},
     "output_type": "execute_result"
    }
   ],
   "source": [
    "fib_itr(10)"
   ]
  },
  {
   "cell_type": "code",
   "execution_count": 156,
   "metadata": {},
   "outputs": [],
   "source": [
    "#cache\n",
    "n = 10\n",
    "cache = [None]*(n+1)\n",
    "\n",
    "\n",
    "def fib_dynami(n):\n",
    "    #base case\n",
    "    if n == 0 or n == 1:\n",
    "        return n\n",
    "    #check cache\n",
    "    \n",
    "    if cache[n] != None:\n",
    "        return cache[n]\n",
    "    \n",
    "    #keep setting cache\n",
    "    cache[n] = fib_dynami(n-1) + fib_dynami(n-2)\n",
    "    \n",
    "    \n",
    "    return cache[n]"
   ]
  },
  {
   "cell_type": "code",
   "execution_count": 157,
   "metadata": {},
   "outputs": [
    {
     "data": {
      "text/plain": [
       "55"
      ]
     },
     "execution_count": 157,
     "metadata": {},
     "output_type": "execute_result"
    }
   ],
   "source": [
    "fib_dynami(10)"
   ]
  },
  {
   "cell_type": "code",
   "execution_count": null,
   "metadata": {},
   "outputs": [],
   "source": []
  },
  {
   "cell_type": "code",
   "execution_count": null,
   "metadata": {},
   "outputs": [],
   "source": []
  }
 ],
 "metadata": {
  "kernelspec": {
   "display_name": "Python 3",
   "language": "python",
   "name": "python3"
  },
  "language_info": {
   "codemirror_mode": {
    "name": "ipython",
    "version": 3
   },
   "file_extension": ".py",
   "mimetype": "text/x-python",
   "name": "python",
   "nbconvert_exporter": "python",
   "pygments_lexer": "ipython3",
   "version": "3.7.4"
  }
 },
 "nbformat": 4,
 "nbformat_minor": 2
}
