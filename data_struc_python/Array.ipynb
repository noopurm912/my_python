{
 "cells": [
  {
   "cell_type": "markdown",
   "metadata": {},
   "source": [
    "Array sequence :\n",
    "    list [1,2,3]\n",
    "    tuples(1,2,3)\n",
    "    string '123'\n",
    "    indexing starts at 0"
   ]
  },
  {
   "cell_type": "markdown",
   "metadata": {},
   "source": [
    "Low level arrays: start + index*cellsize"
   ]
  },
  {
   "cell_type": "markdown",
   "metadata": {},
   "source": [
    "referential array: each element is a reference to the object O(1)"
   ]
  },
  {
   "cell_type": "markdown",
   "metadata": {},
   "source": [
    "Dynamic array: don't need to specify the size of the array beforehand. you constantly keep adding to it \n",
    "\n",
    "List class provide an efficient implementation of DA\n",
    "    "
   ]
  },
  {
   "cell_type": "code",
   "execution_count": 3,
   "metadata": {},
   "outputs": [
    {
     "name": "stdout",
     "output_type": "stream",
     "text": [
      "Length: 0, size in bytes: 64\n",
      "Length: 1, size in bytes: 96\n",
      "Length: 2, size in bytes: 96\n",
      "Length: 3, size in bytes: 96\n",
      "Length: 4, size in bytes: 96\n",
      "Length: 5, size in bytes: 128\n",
      "Length: 6, size in bytes: 128\n",
      "Length: 7, size in bytes: 128\n",
      "Length: 8, size in bytes: 128\n",
      "Length: 9, size in bytes: 192\n",
      "Length: 10, size in bytes: 192\n",
      "Length: 11, size in bytes: 192\n",
      "Length: 12, size in bytes: 192\n",
      "Length: 13, size in bytes: 192\n",
      "Length: 14, size in bytes: 192\n",
      "Length: 15, size in bytes: 192\n",
      "Length: 16, size in bytes: 192\n",
      "Length: 17, size in bytes: 264\n",
      "Length: 18, size in bytes: 264\n",
      "Length: 19, size in bytes: 264\n",
      "Length: 20, size in bytes: 264\n",
      "Length: 21, size in bytes: 264\n",
      "Length: 22, size in bytes: 264\n",
      "Length: 23, size in bytes: 264\n",
      "Length: 24, size in bytes: 264\n",
      "Length: 25, size in bytes: 264\n",
      "Length: 26, size in bytes: 344\n",
      "Length: 27, size in bytes: 344\n",
      "Length: 28, size in bytes: 344\n",
      "Length: 29, size in bytes: 344\n",
      "Length: 30, size in bytes: 344\n",
      "Length: 31, size in bytes: 344\n",
      "Length: 32, size in bytes: 344\n",
      "Length: 33, size in bytes: 344\n",
      "Length: 34, size in bytes: 344\n",
      "Length: 35, size in bytes: 344\n",
      "Length: 36, size in bytes: 432\n",
      "Length: 37, size in bytes: 432\n",
      "Length: 38, size in bytes: 432\n",
      "Length: 39, size in bytes: 432\n",
      "Length: 40, size in bytes: 432\n",
      "Length: 41, size in bytes: 432\n",
      "Length: 42, size in bytes: 432\n",
      "Length: 43, size in bytes: 432\n",
      "Length: 44, size in bytes: 432\n",
      "Length: 45, size in bytes: 432\n",
      "Length: 46, size in bytes: 432\n",
      "Length: 47, size in bytes: 528\n",
      "Length: 48, size in bytes: 528\n",
      "Length: 49, size in bytes: 528\n"
     ]
    }
   ],
   "source": [
    "import sys     \n",
    "# let import the et size of function ehich tells the memory size\n",
    "\n",
    "n = 50\n",
    "\n",
    "data = []\n",
    "\n",
    "for i in range(n):\n",
    "\n",
    "    a = len(data)          #number of elements\n",
    "\n",
    "    b = sys.getsizeof(data) #actual size in bytes\n",
    "\n",
    "    print(f'Length: {a}, size in bytes: {b}')\n",
    "    \n",
    "    data.append(n)\n",
    "\n",
    "\n",
    "\n",
    "# in python for this program, first element stores at 64 bytes then it grabs a chunk of memory 96 then other three elemets are keep added bcz it is growing."
   ]
  },
  {
   "cell_type": "markdown",
   "metadata": {},
   "source": [
    "1.Create an array of bigger size(twice of original)\n",
    "2.assign the previous array to it\n",
    "3.store the new variable\n",
    "\n"
   ]
  },
  {
   "cell_type": "markdown",
   "metadata": {},
   "source": []
  },
  {
   "cell_type": "markdown",
   "metadata": {},
   "source": [
    "library ctypes : as a raw array holder"
   ]
  },
  {
   "cell_type": "code",
   "execution_count": 5,
   "metadata": {},
   "outputs": [],
   "source": [
    "class M(object):\n",
    "    \n",
    "    def public(self):\n",
    "        print('hey, i am public')\n",
    "    \n",
    "    def _private(self):\n",
    "        print('hey, i am not public')"
   ]
  },
  {
   "cell_type": "code",
   "execution_count": 6,
   "metadata": {},
   "outputs": [],
   "source": [
    "m = M()"
   ]
  },
  {
   "cell_type": "code",
   "execution_count": 7,
   "metadata": {},
   "outputs": [
    {
     "name": "stdout",
     "output_type": "stream",
     "text": [
      "hey, i am public\n"
     ]
    }
   ],
   "source": [
    "m.public()"
   ]
  },
  {
   "cell_type": "code",
   "execution_count": 8,
   "metadata": {},
   "outputs": [
    {
     "name": "stdout",
     "output_type": "stream",
     "text": [
      "hey, i am not public\n"
     ]
    }
   ],
   "source": [
    "m._private()"
   ]
  },
  {
   "cell_type": "markdown",
   "metadata": {},
   "source": [
    "Dynamic array Implementation:"
   ]
  },
  {
   "cell_type": "code",
   "execution_count": 53,
   "metadata": {},
   "outputs": [],
   "source": [
    "import ctypes\n",
    "import sys\n",
    "\n",
    "class DynamicArray(object):\n",
    "    \n",
    "    def __init__(self):\n",
    "        \n",
    "        self.n = 0\n",
    "        self.capacity = 1\n",
    "        self.A = self.make_array(self.capacity)\n",
    "        \n",
    "    def __len__(self):\n",
    "        return self.n\n",
    "    \n",
    "       \n",
    "    def __getitem__(self,k):    #k is index\n",
    "        \n",
    "        if not 0 <= k <self.n:\n",
    "            return IndexError(\"K is out of bound\")\n",
    "        \n",
    "        return self.A[k]\n",
    "    \n",
    "    def append(self,ele):\n",
    "        \n",
    "        if self.n == self.capacity:\n",
    "            self._resize(2*self.capacity)  # double the size\n",
    "            \n",
    "        self.A[self.n] = ele\n",
    "        self.n += 1\n",
    "    \n",
    "    def _resize(self,new_cap):\n",
    "        \n",
    "        B = self.make_array(new_cap)\n",
    "        \n",
    "        for k in range(self.n):\n",
    "            B[k] = self.A[k]\n",
    "            \n",
    "        \n",
    "        self.A = B\n",
    "        self.capacity = new_cap\n",
    "    \n",
    "    def make_array(self,new_cap):\n",
    "        \n",
    "        return (new_cap * ctypes.py_object)()\n",
    "            \n",
    "    "
   ]
  },
  {
   "cell_type": "code",
   "execution_count": 54,
   "metadata": {},
   "outputs": [],
   "source": [
    "arr = DynamicArray()"
   ]
  },
  {
   "cell_type": "code",
   "execution_count": 55,
   "metadata": {},
   "outputs": [],
   "source": [
    "arr.append(1)"
   ]
  },
  {
   "cell_type": "code",
   "execution_count": 56,
   "metadata": {},
   "outputs": [],
   "source": [
    "arr.append(1)"
   ]
  },
  {
   "cell_type": "code",
   "execution_count": 57,
   "metadata": {},
   "outputs": [],
   "source": [
    "arr.append(1)"
   ]
  },
  {
   "cell_type": "code",
   "execution_count": 58,
   "metadata": {},
   "outputs": [],
   "source": [
    "arr.append(1)"
   ]
  },
  {
   "cell_type": "code",
   "execution_count": 59,
   "metadata": {},
   "outputs": [
    {
     "data": {
      "text/plain": [
       "4"
      ]
     },
     "execution_count": 59,
     "metadata": {},
     "output_type": "execute_result"
    }
   ],
   "source": [
    "len(arr)"
   ]
  },
  {
   "cell_type": "code",
   "execution_count": 60,
   "metadata": {},
   "outputs": [
    {
     "data": {
      "text/plain": [
       "<__main__.py_object_Array_4 at 0x1c3fa9365c8>"
      ]
     },
     "execution_count": 60,
     "metadata": {},
     "output_type": "execute_result"
    }
   ],
   "source": [
    "arr.A"
   ]
  },
  {
   "cell_type": "code",
   "execution_count": 61,
   "metadata": {},
   "outputs": [
    {
     "data": {
      "text/plain": [
       "128"
      ]
     },
     "execution_count": 61,
     "metadata": {},
     "output_type": "execute_result"
    }
   ],
   "source": [
    "sys.getsizeof(arr.A)"
   ]
  },
  {
   "cell_type": "code",
   "execution_count": 62,
   "metadata": {},
   "outputs": [],
   "source": [
    "arr.append(1)"
   ]
  },
  {
   "cell_type": "code",
   "execution_count": 63,
   "metadata": {},
   "outputs": [],
   "source": [
    "arr.append(1)"
   ]
  },
  {
   "cell_type": "code",
   "execution_count": 64,
   "metadata": {},
   "outputs": [
    {
     "data": {
      "text/plain": [
       "128"
      ]
     },
     "execution_count": 64,
     "metadata": {},
     "output_type": "execute_result"
    }
   ],
   "source": [
    "sys.getsizeof(arr.A)"
   ]
  },
  {
   "cell_type": "code",
   "execution_count": 65,
   "metadata": {},
   "outputs": [
    {
     "data": {
      "text/plain": [
       "6"
      ]
     },
     "execution_count": 65,
     "metadata": {},
     "output_type": "execute_result"
    }
   ],
   "source": [
    "len(arr)"
   ]
  },
  {
   "cell_type": "markdown",
   "metadata": {},
   "source": [
    "Interview Problems:"
   ]
  },
  {
   "cell_type": "code",
   "execution_count": null,
   "metadata": {},
   "outputs": [],
   "source": [
    "pair_sum([1,3,2,2],4)"
   ]
  },
  {
   "cell_type": "code",
   "execution_count": 524,
   "metadata": {},
   "outputs": [
    {
     "name": "stdout",
     "output_type": "stream",
     "text": [
      "(1,3)\n",
      "(2,2)\n",
      "(3,1)\n"
     ]
    }
   ],
   "source": [
    "arr1 = [1,2,3]\n",
    "for i in arr1:\n",
    "    for j in arr1:\n",
    "        if i + j == 4:\n",
    "            print(f'({i},{j})')\n",
    "            break\n",
    "\n"
   ]
  },
  {
   "cell_type": "code",
   "execution_count": null,
   "metadata": {},
   "outputs": [],
   "source": []
  },
  {
   "cell_type": "code",
   "execution_count": 513,
   "metadata": {},
   "outputs": [
    {
     "name": "stdout",
     "output_type": "stream",
     "text": [
      "the missing number is: 4\n"
     ]
    }
   ],
   "source": [
    "arr1 = [2,1,4,3]\n",
    "arr2 = [1,2,3]\n",
    "'''\n",
    "arr1.sort()\n",
    "arr2.sort()\n",
    "for num1,num2 in zip(arr1,arr2):\n",
    "    if num1 != num2:\n",
    "        print(num1)\n",
    "        \n",
    "print(arr[-1])\n",
    "'''\n",
    "\n",
    "\n",
    "for i in range(len(arr2)):\n",
    "    if arr2[i] in arr1:\n",
    "        arr1.remove(arr2[i])\n",
    "print(f\"the missing number is: {arr1[0]}\")\n",
    "\n"
   ]
  },
  {
   "cell_type": "code",
   "execution_count": null,
   "metadata": {},
   "outputs": [],
   "source": []
  },
  {
   "cell_type": "code",
   "execution_count": 120,
   "metadata": {},
   "outputs": [],
   "source": [
    "\n"
   ]
  },
  {
   "cell_type": "code",
   "execution_count": 189,
   "metadata": {},
   "outputs": [],
   "source": [
    "def uni_char():\n",
    "    new_string = 'abccde'\n",
    "    for i in new_string:\n",
    "        if new_string.count(i) > 1:\n",
    "            return False\n",
    "            break\n",
    "    return True\n"
   ]
  },
  {
   "cell_type": "code",
   "execution_count": 190,
   "metadata": {},
   "outputs": [
    {
     "data": {
      "text/plain": [
       "False"
      ]
     },
     "execution_count": 190,
     "metadata": {},
     "output_type": "execute_result"
    }
   ],
   "source": [
    "uni_char()"
   ]
  },
  {
   "cell_type": "code",
   "execution_count": 192,
   "metadata": {},
   "outputs": [
    {
     "name": "stdout",
     "output_type": "stream",
     "text": [
      "1\n",
      "1\n",
      "4\n",
      "4\n",
      "4\n",
      "4\n",
      "1\n",
      "1\n"
     ]
    }
   ],
   "source": [
    "new_string = 'abccccde'\n",
    "for i in new_string:\n",
    "       print(new_string.count(i))"
   ]
  },
  {
   "cell_type": "code",
   "execution_count": 193,
   "metadata": {},
   "outputs": [
    {
     "data": {
      "text/plain": [
       "{'a', 'b', 'c', 'd', 'e'}"
      ]
     },
     "execution_count": 193,
     "metadata": {},
     "output_type": "execute_result"
    }
   ],
   "source": [
    "set(new_string)"
   ]
  },
  {
   "cell_type": "code",
   "execution_count": 203,
   "metadata": {},
   "outputs": [],
   "source": [
    "def uni_char2(st):\n",
    "    '''\n",
    "    char = set()\n",
    "    for i in st:\n",
    "        if i in char:\n",
    "            return False\n",
    "        else:\n",
    "            char.add(i)\n",
    "    return True\n",
    "    '''\n",
    "    new_arr = []\n",
    "    for i in st:\n",
    "        if i in new_arr:\n",
    "            return False\n",
    "        else:\n",
    "            new_arr.append(i)\n",
    "    return True\n",
    "    "
   ]
  },
  {
   "cell_type": "code",
   "execution_count": 205,
   "metadata": {},
   "outputs": [
    {
     "data": {
      "text/plain": [
       "True"
      ]
     },
     "execution_count": 205,
     "metadata": {},
     "output_type": "execute_result"
    }
   ],
   "source": [
    "uni_char2('stf')"
   ]
  },
  {
   "cell_type": "code",
   "execution_count": 197,
   "metadata": {},
   "outputs": [],
   "source": [
    "def uni_char3(strh):\n",
    "    return (len(set(strh)) == len(strh))"
   ]
  },
  {
   "cell_type": "code",
   "execution_count": 199,
   "metadata": {},
   "outputs": [
    {
     "data": {
      "text/plain": [
       "True"
      ]
     },
     "execution_count": 199,
     "metadata": {},
     "output_type": "execute_result"
    }
   ],
   "source": [
    "uni_char3('strh')"
   ]
  },
  {
   "cell_type": "code",
   "execution_count": null,
   "metadata": {},
   "outputs": [],
   "source": [
    "string1 = 'AAABBBCCCDD'\n",
    "string2 =''"
   ]
  },
  {
   "cell_type": "code",
   "execution_count": 272,
   "metadata": {},
   "outputs": [],
   "source": [
    "def str_compress(str2):\n",
    "    \n",
    "    string3 = ''\n",
    "    \n",
    "    for i in str2:\n",
    "        if i in string3:\n",
    "            pass\n",
    "        else:\n",
    "            m = str2.count(i)\n",
    "            string3 += f'{i}{m}'\n",
    "    return string3\n",
    "            \n",
    "        "
   ]
  },
  {
   "cell_type": "code",
   "execution_count": 274,
   "metadata": {},
   "outputs": [
    {
     "data": {
      "text/plain": [
       "'A3B3C3D3'"
      ]
     },
     "execution_count": 274,
     "metadata": {},
     "output_type": "execute_result"
    }
   ],
   "source": [
    "str_compress('AAABBBCCCDDD')"
   ]
  },
  {
   "cell_type": "code",
   "execution_count": 344,
   "metadata": {},
   "outputs": [],
   "source": [
    "s = 'This is    the best'"
   ]
  },
  {
   "cell_type": "code",
   "execution_count": 345,
   "metadata": {},
   "outputs": [
    {
     "data": {
      "text/plain": [
       "16"
      ]
     },
     "execution_count": 345,
     "metadata": {},
     "output_type": "execute_result"
    }
   ],
   "source": [
    "len(s)"
   ]
  },
  {
   "cell_type": "code",
   "execution_count": 351,
   "metadata": {},
   "outputs": [],
   "source": [
    "str=s.split()"
   ]
  },
  {
   "cell_type": "code",
   "execution_count": 352,
   "metadata": {},
   "outputs": [
    {
     "name": "stdout",
     "output_type": "stream",
     "text": [
      "best\n",
      "the\n",
      "is\n",
      "This\n"
     ]
    }
   ],
   "source": [
    "for i in range(len(str)):\n",
    "    print(str[(len(str)-1)-i])\n",
    "\n"
   ]
  },
  {
   "cell_type": "code",
   "execution_count": 353,
   "metadata": {},
   "outputs": [
    {
     "name": "stdout",
     "output_type": "stream",
     "text": [
      "['This', 'is', 'the', 'best']\n"
     ]
    }
   ],
   "source": [
    "print(str)"
   ]
  },
  {
   "cell_type": "code",
   "execution_count": 354,
   "metadata": {},
   "outputs": [
    {
     "data": {
      "text/plain": [
       "4"
      ]
     },
     "execution_count": 354,
     "metadata": {},
     "output_type": "execute_result"
    }
   ],
   "source": [
    "len(str)"
   ]
  },
  {
   "cell_type": "code",
   "execution_count": 388,
   "metadata": {},
   "outputs": [
    {
     "name": "stdout",
     "output_type": "stream",
     "text": [
      "['best', 'the', 'is', 'This']\n",
      "best the is This\n"
     ]
    }
   ],
   "source": [
    "str1 = []\n",
    "s = ''\n",
    "for i in range(len(str)):\n",
    "    \n",
    "        str1.append(str[(len(str)-1)-i])\n",
    "        \n",
    "print(str1)\n",
    "s = ' '.join(str1)\n",
    "print(s)\n",
    "\n",
    "\n",
    "    \n",
    "    \n",
    "    \n",
    "    \n",
    "    \n",
    "    \n"
   ]
  },
  {
   "cell_type": "code",
   "execution_count": 386,
   "metadata": {},
   "outputs": [
    {
     "data": {
      "text/plain": [
       "4"
      ]
     },
     "execution_count": 386,
     "metadata": {},
     "output_type": "execute_result"
    }
   ],
   "source": [
    "len(str1)"
   ]
  },
  {
   "cell_type": "code",
   "execution_count": 387,
   "metadata": {},
   "outputs": [
    {
     "data": {
      "text/plain": [
       "'T h i s'"
      ]
     },
     "execution_count": 387,
     "metadata": {},
     "output_type": "execute_result"
    }
   ],
   "source": [
    "s"
   ]
  },
  {
   "cell_type": "code",
   "execution_count": 389,
   "metadata": {},
   "outputs": [
    {
     "data": {
      "text/plain": [
       "16"
      ]
     },
     "execution_count": 389,
     "metadata": {},
     "output_type": "execute_result"
    }
   ],
   "source": [
    "len(s)"
   ]
  },
  {
   "cell_type": "code",
   "execution_count": 390,
   "metadata": {},
   "outputs": [],
   "source": [
    "s = 'This is the best'"
   ]
  },
  {
   "cell_type": "code",
   "execution_count": 441,
   "metadata": {},
   "outputs": [],
   "source": [
    "def str_reverses(n):\n",
    "      return ' '.join(reversed(st.split()))"
   ]
  },
  {
   "cell_type": "code",
   "execution_count": 442,
   "metadata": {},
   "outputs": [
    {
     "data": {
      "text/plain": [
       "'best the is This'"
      ]
     },
     "execution_count": 442,
     "metadata": {},
     "output_type": "execute_result"
    }
   ],
   "source": [
    "s = 'This is the best'\n",
    "str_reverses(s)"
   ]
  },
  {
   "cell_type": "code",
   "execution_count": 456,
   "metadata": {},
   "outputs": [],
   "source": [
    "#largest continous sum\n",
    "\n",
    "\n",
    "def lar_cont_sum(arr):\n",
    "    \n",
    "    if len(arr) == 0:\n",
    "        return 0\n",
    "    else:\n",
    "        max_sum = current_sum = arr[0]\n",
    "        \n",
    "        for num in arr[1:]:\n",
    "            current_sum = max(current_sum+num, num)\n",
    "            #print(current_sum)\n",
    "            max_sum = max(max_sum,current_sum)\n",
    "            #print(max_sum)\n",
    "        return max_sum\n",
    "        \n",
    "        "
   ]
  },
  {
   "cell_type": "code",
   "execution_count": 457,
   "metadata": {},
   "outputs": [
    {
     "data": {
      "text/plain": [
       "29"
      ]
     },
     "execution_count": 457,
     "metadata": {},
     "output_type": "execute_result"
    }
   ],
   "source": [
    "lar_cont_sum([1,2,-1,3,4,10,10,-10,1])"
   ]
  },
  {
   "cell_type": "code",
   "execution_count": 534,
   "metadata": {},
   "outputs": [],
   "source": [
    "#anagram\n",
    "\n",
    "\n",
    "def ana_gram_chk(str1,str2):\n",
    "    \n",
    "    s1 = str1.replace(' ','')\n",
    "    s2 = str2.replace(' ','')\n",
    "    if sorted(s1) == sorted(s2):\n",
    "        return True"
   ]
  },
  {
   "cell_type": "code",
   "execution_count": 533,
   "metadata": {},
   "outputs": [
    {
     "data": {
      "text/plain": [
       "True"
      ]
     },
     "execution_count": 533,
     "metadata": {},
     "output_type": "execute_result"
    }
   ],
   "source": [
    "ana_gram_chk('odg em','dog me')"
   ]
  },
  {
   "cell_type": "code",
   "execution_count": null,
   "metadata": {},
   "outputs": [],
   "source": []
  },
  {
   "cell_type": "code",
   "execution_count": null,
   "metadata": {},
   "outputs": [],
   "source": []
  },
  {
   "cell_type": "code",
   "execution_count": null,
   "metadata": {},
   "outputs": [],
   "source": []
  }
 ],
 "metadata": {
  "kernelspec": {
   "display_name": "Python 3",
   "language": "python",
   "name": "python3"
  },
  "language_info": {
   "codemirror_mode": {
    "name": "ipython",
    "version": 3
   },
   "file_extension": ".py",
   "mimetype": "text/x-python",
   "name": "python",
   "nbconvert_exporter": "python",
   "pygments_lexer": "ipython3",
   "version": "3.7.4"
  }
 },
 "nbformat": 4,
 "nbformat_minor": 2
}
