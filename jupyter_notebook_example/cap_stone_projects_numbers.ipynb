{
 "cells": [
  {
   "cell_type": "markdown",
   "metadata": {},
   "source": [
    "\n",
    "Numbers\n",
    "Find PI to the Nth Digit - Enter a number and have the program generate π (pi) up to that many decimal places. Keep a limit to how far the program will go.\n",
    "\n",
    "Find e to the Nth Digit - Just like the previous problem, but with e instead of π (pi). Enter a number and have the program generate e up to that many decimal places. Keep a limit to how far the program will go.\n",
    "\n",
    "Fibonacci Sequence - Enter a number and have the program generate the Fibonacci sequence to that number or to the Nth number.\n",
    "\n",
    "Prime Factorization - Have the user enter a number and find all Prime Factors (if there are any) and display them.\n",
    "\n",
    "Next Prime Number - Have the program find prime numbers until the user chooses to stop asking for the next one.\n",
    "\n",
    "Find Cost of Tile to Cover W x H Floor - Calculate the total cost of tile it would take to cover a floor plan of width and height, using a cost entered by the user.\n",
    "\n",
    "Mortgage Calculator - Calculate the monthly payments of a fixed term mortgage over given Nth terms at a given interest rate. Also figure out how long it will take the user to pay back the loan. For added complexity, add an option for users to select the compounding interval (Monthly, Weekly, Daily, Continually).\n",
    "\n",
    "Change Return Program - The user enters a cost and then the amount of money given. The program will figure out the change and the number of quarters, dimes, nickels, pennies needed for the change.\n",
    "\n",
    "Binary to Decimal and Back Converter - Develop a converter to convert a decimal number to binary or a binary number to its decimal equivalent.\n",
    "\n",
    "Calculator - A simple calculator to do basic operators. Make it a scientific calculator for added complexity.\n",
    "\n",
    "Unit Converter (temp, currency, volume, mass and more) - Converts various units between one another. The user enters the type of unit being entered, the type of unit they want to convert to and then the value. The program will then make the conversion.\n",
    "\n",
    "Alarm Clock - A simple clock where it plays a sound after X number of minutes/seconds or at a particular time.\n",
    "\n",
    "Distance Between Two Cities - Calculates the distance between two cities and allows the user to specify a unit of distance. This program may require finding coordinates for the cities like latitude and longitude.\n",
    "\n",
    "Credit Card Validator - Takes in a credit card number from a common credit card vendor (Visa, MasterCard, American Express, Discoverer) and validates it to make sure that it is a valid number (look into how credit cards use a checksum).\n",
    "\n",
    "Tax Calculator - Asks the user to enter a cost and either a country or state tax. It then returns the tax plus the total cost with tax.\n",
    "\n",
    "Factorial Finder - The Factorial of a positive integer, n, is defined as the product of the sequence n, n-1, n-2, ...1 and the factorial of zero, 0, is defined as being 1. Solve this using both loops and recursion.\n",
    "\n",
    "Complex Number Algebra - Show addition, multiplication, negation, and inversion of complex numbers in separate functions. (Subtraction and division operations can be made with pairs of these operations.) Print the results for each operation tested.\n",
    "\n",
    "Happy Numbers - A happy number is defined by the following process. Starting with any positive integer, replace the number by the sum of the squares of its digits, and repeat the process until the number equals 1 (where it will stay), or it loops endlessly in a cycle which does not include 1. Those numbers for which this process ends in 1 are happy numbers, while those that do not end in 1 are unhappy numbers. Display an example of your output here. Find first 8 happy numbers.\n",
    "\n",
    "Number Names - Show how to spell out a number in English. You can use a preexisting implementation or roll your own, but you should support inputs up to at least one million (or the maximum value of your language's default bounded integer type, if that's less). Optional: Support for inputs other than positive integers (like zero, negative integers, and floating-point numbers).\n",
    "\n",
    "Coin Flip Simulation - Write some code that simulates flipping a single coin however many times the user decides. The code should record the outcomes and count the number of tails and heads.\n",
    "\n",
    "Limit Calculator - Ask the user to enter f(x) and the limit value, then return the value of the limit statement Optional: Make the calculator capable of supporting infinite limits.\n",
    "\n",
    "Fast Exponentiation - Ask the user to enter 2 integers a and b and output a^b (i.e. pow(a,b)) in O(lg n) time complexity"
   ]
  },
  {
   "cell_type": "markdown",
   "metadata": {},
   "source": []
  },
  {
   "cell_type": "code",
   "execution_count": 13,
   "metadata": {},
   "outputs": [],
   "source": []
  },
  {
   "cell_type": "code",
   "execution_count": null,
   "metadata": {},
   "outputs": [],
   "source": []
  },
  {
   "cell_type": "code",
   "execution_count": null,
   "metadata": {},
   "outputs": [],
   "source": []
  },
  {
   "cell_type": "code",
   "execution_count": 16,
   "metadata": {},
   "outputs": [
    {
     "name": "stdout",
     "output_type": "stream",
     "text": [
      "Enter a number and have the program generate π (pi) up to that many decimal places: 4\n",
      "3.1416\n"
     ]
    }
   ],
   "source": [
    "#Find PI to the Nth Digit - Enter a number and have the program generate π (pi) up to that many decimal places.\n",
    "#Keep a limit to how far the program will go.\n",
    "\n",
    "\n",
    "import math\n",
    "\n",
    "n = int(input(\"Enter a number and have the program generate π (pi) up to that many decimal places: \"))\n",
    "\n",
    "while n > 50:\n",
    "    print(\"should be less than 50\")\n",
    "else:\n",
    "    #print(round(math.pi,n))\n",
    "    #print('%.*f' % (n, math.pi))\n",
    "    print('{:.{}f}'.format(math.pi,n))\n",
    "   "
   ]
  },
  {
   "cell_type": "code",
   "execution_count": 18,
   "metadata": {},
   "outputs": [
    {
     "name": "stdout",
     "output_type": "stream",
     "text": [
      "Enter a number and have the program generate e up to that many decimal places: 3\n",
      "2.7183\n"
     ]
    }
   ],
   "source": [
    "#Find e to the Nth Digit - Just like the previous problem, but with e instead of π (pi). \n",
    "#Enter a number and have the program generate e up to that many decimal places. \n",
    "#Keep a limit to how far the program will go.\n",
    "\n",
    "import math\n",
    "m = int(input(\"Enter a number and have the program generate e up to that many decimal places: \"))\n",
    "\n",
    "while m > 50:\n",
    "    print(\"should be less than 50\")\n",
    "else:\n",
    "    #print(round(math.pi,n))\n",
    "    #print('%.*f' % (n, math.pi))\n",
    "    print('{:.{}f}'.format(math.e,n))\n",
    "   \n"
   ]
  },
  {
   "cell_type": "markdown",
   "metadata": {},
   "source": []
  },
  {
   "cell_type": "code",
   "execution_count": 54,
   "metadata": {},
   "outputs": [],
   "source": [
    "#Fibonacci Sequence - Enter a number and have the program generate the Fibonacci sequence \n",
    "#to that number or to the Nth number.\n",
    "\n",
    "\n",
    "def gen_fibo(n):\n",
    "    fib_list = [0,1]\n",
    "    n0 = 0\n",
    "    n1 = 1\n",
    "    \n",
    "    if n < 0:\n",
    "        return(\"enter a number not zero\")\n",
    "    elif n == 0:\n",
    "        return n0\n",
    "    elif n == 1:\n",
    "        return n1\n",
    "    else:\n",
    "        for i in range(2,n):\n",
    "            new_num = n0 + n1\n",
    "            n0 = n1\n",
    "            n1 = new_num\n",
    "            fib_list.append(new_num)\n",
    "            \n",
    "        print(n1)\n",
    "        return fib_list\n",
    "        \n",
    "    \n",
    "        \n",
    "            \n",
    "        \n",
    "        \n",
    "    "
   ]
  },
  {
   "cell_type": "code",
   "execution_count": 55,
   "metadata": {},
   "outputs": [
    {
     "name": "stdout",
     "output_type": "stream",
     "text": [
      "21\n"
     ]
    },
    {
     "data": {
      "text/plain": [
       "[0, 1, 1, 2, 3, 5, 8, 13, 21]"
      ]
     },
     "execution_count": 55,
     "metadata": {},
     "output_type": "execute_result"
    }
   ],
   "source": [
    "gen_fibo(9)"
   ]
  },
  {
   "cell_type": "code",
   "execution_count": 44,
   "metadata": {},
   "outputs": [],
   "source": []
  },
  {
   "cell_type": "code",
   "execution_count": 104,
   "metadata": {},
   "outputs": [],
   "source": [
    "#Prime Factorization - Have the user enter a number and \n",
    "#find all Prime Factors (if there are any) and display them.\n",
    "import math\n",
    "\n",
    "def prime_factor(n):\n",
    "    \n",
    "    while n % 2 == 0:\n",
    "        print(2)\n",
    "        n = n/2\n",
    "        \n",
    "    for i in range(3,int(math.sqrt(n))+1,2):\n",
    "        while n % i == 0:\n",
    "            print(i)\n",
    "            n = n/i\n",
    "                \n",
    "    if n > 2:\n",
    "        print(n)\n",
    "                \n"
   ]
  },
  {
   "cell_type": "code",
   "execution_count": 106,
   "metadata": {},
   "outputs": [
    {
     "name": "stdout",
     "output_type": "stream",
     "text": [
      "5\n",
      "11.0\n"
     ]
    }
   ],
   "source": [
    "prime_factor(55)"
   ]
  },
  {
   "cell_type": "code",
   "execution_count": null,
   "metadata": {},
   "outputs": [],
   "source": []
  },
  {
   "cell_type": "code",
   "execution_count": null,
   "metadata": {},
   "outputs": [],
   "source": [
    "#Next Prime Number - Have the program find prime numbers\n",
    "#until the user chooses to stop asking for the next one.\n",
    "\n",
    "\n",
    "\n",
    "def prime_number('s'):\n",
    "    if s[0] == 'y':\n",
    "        for i in range(2,,2):\n",
    "            if i % i\n",
    "    "
   ]
  }
 ],
 "metadata": {
  "kernelspec": {
   "display_name": "Python 3",
   "language": "python",
   "name": "python3"
  },
  "language_info": {
   "codemirror_mode": {
    "name": "ipython",
    "version": 3
   },
   "file_extension": ".py",
   "mimetype": "text/x-python",
   "name": "python",
   "nbconvert_exporter": "python",
   "pygments_lexer": "ipython3",
   "version": "3.7.4"
  }
 },
 "nbformat": 4,
 "nbformat_minor": 2
}
