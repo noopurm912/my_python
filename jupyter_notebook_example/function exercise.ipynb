{
 "cells": [
  {
   "cell_type": "code",
   "execution_count": 11,
   "metadata": {},
   "outputs": [],
   "source": [
    "# Write a function that returns the lesser of two given numbers if both numbers are even \n",
    "#but returns the greater if one or both numbers are odd\n",
    "\n",
    "def lesser_of_two_even(a,b):\n",
    "    if a % 2 == 0 and b % 2 == 0:\n",
    "        if a > b:\n",
    "            return b\n",
    "        else:\n",
    "            return a\n",
    "    elif a % 2 != 0 or b % 2 !=0:\n",
    "        if a > b:\n",
    "            return a\n",
    "        else:\n",
    "            return b"
   ]
  },
  {
   "cell_type": "code",
   "execution_count": 14,
   "metadata": {},
   "outputs": [
    {
     "data": {
      "text/plain": [
       "5"
      ]
     },
     "execution_count": 14,
     "metadata": {},
     "output_type": "execute_result"
    }
   ],
   "source": [
    "lesser_of_two_even(2,5)"
   ]
  },
  {
   "cell_type": "code",
   "execution_count": 15,
   "metadata": {},
   "outputs": [
    {
     "data": {
      "text/plain": [
       "2"
      ]
     },
     "execution_count": 15,
     "metadata": {},
     "output_type": "execute_result"
    }
   ],
   "source": [
    "lesser_of_two_even(2,4)"
   ]
  },
  {
   "cell_type": "code",
   "execution_count": 19,
   "metadata": {},
   "outputs": [],
   "source": [
    "#Write a function takes a two-word string and returns True \n",
    "#if both words begin with same letter\n",
    "\n",
    "def animal_crackers(text):\n",
    "    text1 = text.split()\n",
    "    if text[0] == text1[1][0]:\n",
    "        return True\n",
    "    else:\n",
    "        return False\n",
    "    \n"
   ]
  },
  {
   "cell_type": "code",
   "execution_count": 20,
   "metadata": {},
   "outputs": [
    {
     "data": {
      "text/plain": [
       "True"
      ]
     },
     "execution_count": 20,
     "metadata": {},
     "output_type": "execute_result"
    }
   ],
   "source": [
    "animal_crackers('Levelheaded Llama')"
   ]
  },
  {
   "cell_type": "code",
   "execution_count": 21,
   "metadata": {},
   "outputs": [
    {
     "data": {
      "text/plain": [
       "False"
      ]
     },
     "execution_count": 21,
     "metadata": {},
     "output_type": "execute_result"
    }
   ],
   "source": [
    "animal_crackers('Crazy Kangaroo')"
   ]
  },
  {
   "cell_type": "code",
   "execution_count": 26,
   "metadata": {},
   "outputs": [],
   "source": [
    "#Given two integers, return True if the sum of the integers is 20 \n",
    "#or if one of the integers is 20. \n",
    "#If not, return False\n",
    "\n",
    "def makes_twenty(n1,n2):\n",
    "    return n1+n2 == 20 or n1 == 20 or n2 == 20\n",
    "\n"
   ]
  },
  {
   "cell_type": "code",
   "execution_count": 27,
   "metadata": {},
   "outputs": [
    {
     "data": {
      "text/plain": [
       "True"
      ]
     },
     "execution_count": 27,
     "metadata": {},
     "output_type": "execute_result"
    }
   ],
   "source": [
    "makes_twenty(20,10)"
   ]
  },
  {
   "cell_type": "code",
   "execution_count": 23,
   "metadata": {},
   "outputs": [
    {
     "data": {
      "text/plain": [
       "True"
      ]
     },
     "execution_count": 23,
     "metadata": {},
     "output_type": "execute_result"
    }
   ],
   "source": [
    "makes_twenty(20,10)"
   ]
  },
  {
   "cell_type": "code",
   "execution_count": 24,
   "metadata": {},
   "outputs": [
    {
     "data": {
      "text/plain": [
       "False"
      ]
     },
     "execution_count": 24,
     "metadata": {},
     "output_type": "execute_result"
    }
   ],
   "source": [
    "makes_twenty(2,3)"
   ]
  },
  {
   "cell_type": "code",
   "execution_count": 25,
   "metadata": {},
   "outputs": [
    {
     "data": {
      "text/plain": [
       "True"
      ]
     },
     "execution_count": 25,
     "metadata": {},
     "output_type": "execute_result"
    }
   ],
   "source": [
    "makes_twenty(12,8)"
   ]
  },
  {
   "cell_type": "code",
   "execution_count": 54,
   "metadata": {},
   "outputs": [],
   "source": [
    "#LEVEL 1 PROBLEMS\n",
    "#OLD MACDONALD: Write a function that capitalizes \n",
    "#the first and fourth letters of a name\n",
    "\n",
    "def old_macdonald(name):\n",
    "    return name[0:3].capitalize()+name[3:].capitalize()\n",
    "    \n",
    "    \n",
    "    \n",
    "\n",
    "   "
   ]
  },
  {
   "cell_type": "code",
   "execution_count": 56,
   "metadata": {},
   "outputs": [
    {
     "data": {
      "text/plain": [
       "'MacDonald'"
      ]
     },
     "execution_count": 56,
     "metadata": {},
     "output_type": "execute_result"
    }
   ],
   "source": [
    "old_macdonald('macdonald')"
   ]
  },
  {
   "cell_type": "code",
   "execution_count": 108,
   "metadata": {},
   "outputs": [],
   "source": [
    "#MASTER YODA: Given a sentence, \n",
    "#return a sentence with the words reversed\n",
    "\n",
    "def master_yoda(name):\n",
    "    name1 = name.split()\n",
    "    a = ''\n",
    "    b = len(name1)\n",
    "    for eachitem in name1:\n",
    "        while(b>0):\n",
    "            #' '.join(name1)\n",
    "            a = a+name1[b-1]+\" \"\n",
    "            b= b-1\n",
    "    return a\n",
    "        \n",
    "\n",
    "        \n"
   ]
  },
  {
   "cell_type": "code",
   "execution_count": 109,
   "metadata": {},
   "outputs": [
    {
     "data": {
      "text/plain": [
       "'ready are We '"
      ]
     },
     "execution_count": 109,
     "metadata": {},
     "output_type": "execute_result"
    }
   ],
   "source": [
    "master_yoda('We are ready')"
   ]
  },
  {
   "cell_type": "code",
   "execution_count": 150,
   "metadata": {},
   "outputs": [],
   "source": [
    "#Given an integer n, \n",
    "#return True if n is within 10 of either 100 or 200\n",
    "\n",
    "def almost_there(n):\n",
    "    if (abs(100 - n) <= 10) or (abs(200 - n) <= 10):\n",
    "        return True\n",
    "    else:\n",
    "        return False\n"
   ]
  },
  {
   "cell_type": "code",
   "execution_count": 156,
   "metadata": {},
   "outputs": [
    {
     "data": {
      "text/plain": [
       "True"
      ]
     },
     "execution_count": 156,
     "metadata": {},
     "output_type": "execute_result"
    }
   ],
   "source": [
    "almost_there(190)"
   ]
  },
  {
   "cell_type": "code",
   "execution_count": 11,
   "metadata": {},
   "outputs": [],
   "source": [
    "#Given a list of ints, return True \n",
    "#if the array contains a 3 next to a 3 somewhere.\n",
    "\n",
    "def has_33(nums):\n",
    "    n = len(nums)\n",
    "    for item in range(0, n-1):\n",
    "        if nums[item] == 3 and nums[item +1] == 3:\n",
    "                return True\n",
    "    else:\n",
    "        return False\n",
    "                \n",
    "\n"
   ]
  },
  {
   "cell_type": "code",
   "execution_count": 12,
   "metadata": {},
   "outputs": [
    {
     "data": {
      "text/plain": [
       "True"
      ]
     },
     "execution_count": 12,
     "metadata": {},
     "output_type": "execute_result"
    }
   ],
   "source": [
    "has_33([1, 3, 3])"
   ]
  },
  {
   "cell_type": "code",
   "execution_count": 13,
   "metadata": {},
   "outputs": [
    {
     "data": {
      "text/plain": [
       "False"
      ]
     },
     "execution_count": 13,
     "metadata": {},
     "output_type": "execute_result"
    }
   ],
   "source": [
    "has_33([1, 3, 1, 3])"
   ]
  },
  {
   "cell_type": "code",
   "execution_count": 14,
   "metadata": {},
   "outputs": [
    {
     "data": {
      "text/plain": [
       "False"
      ]
     },
     "execution_count": 14,
     "metadata": {},
     "output_type": "execute_result"
    }
   ],
   "source": [
    "has_33([3, 1, 3])"
   ]
  },
  {
   "cell_type": "code",
   "execution_count": 39,
   "metadata": {},
   "outputs": [],
   "source": [
    "\n",
    "    "
   ]
  },
  {
   "cell_type": "code",
   "execution_count": 52,
   "metadata": {},
   "outputs": [
    {
     "name": "stdout",
     "output_type": "stream",
     "text": [
      "HHHeeellllll\n"
     ]
    }
   ],
   "source": [
    "name = 'Hello'\n",
    "newname = ''\n",
    "\n",
    "for i in range(0,(len(name)-1)):\n",
    "    j = 3\n",
    "    while j>0:\n",
    "        newname = newname + name[i]\n",
    "        j= j-1\n",
    "print(newname)\n",
    "        \n",
    "#print(name[0]+name[0]+name[0]+name[1]+name[1]+name[1])"
   ]
  },
  {
   "cell_type": "code",
   "execution_count": 50,
   "metadata": {},
   "outputs": [],
   "source": [
    "#PAPER DOLL: Given a string, \n",
    "#return a string where for every character\n",
    "#in the original there are three characters\n",
    "\n",
    "\n",
    "def paper_doll(text):\n",
    "    new_text = ''\n",
    "    for i in range(0,len(text)):\n",
    "        j = 3\n",
    "        while j>0:\n",
    "            new_text = new_text + text[i]\n",
    "            j = j-1\n",
    "    return new_text\n",
    "    \n",
    "    "
   ]
  },
  {
   "cell_type": "code",
   "execution_count": 51,
   "metadata": {},
   "outputs": [
    {
     "data": {
      "text/plain": [
       "'MMMiiissssssiiissssssiiippppppiii'"
      ]
     },
     "execution_count": 51,
     "metadata": {},
     "output_type": "execute_result"
    }
   ],
   "source": [
    "paper_doll('Mississippi')\n"
   ]
  },
  {
   "cell_type": "code",
   "execution_count": 53,
   "metadata": {},
   "outputs": [],
   "source": [
    "def paper_doll1(text1):\n",
    "    new_text2 =''\n",
    "    for i in text1:\n",
    "        new_text2 += i*3\n",
    "    return new_text2"
   ]
  },
  {
   "cell_type": "code",
   "execution_count": 54,
   "metadata": {},
   "outputs": [
    {
     "data": {
      "text/plain": [
       "'HHHeeellllllooo'"
      ]
     },
     "execution_count": 54,
     "metadata": {},
     "output_type": "execute_result"
    }
   ],
   "source": [
    "paper_doll1('Hello')\n"
   ]
  },
  {
   "cell_type": "code",
   "execution_count": 84,
   "metadata": {},
   "outputs": [],
   "source": [
    "#BLACKJACK: Given three integers between 1 and 11, \n",
    "#if their sum is less than or equal to 21, return their sum. \n",
    "#If their sum exceeds 21 and there's an eleven, reduce the total sum by 10. Finally, \n",
    "#if the sum (even after adjustment) exceeds 21, \n",
    "#return 'BUST'\n",
    "\n",
    "def blackjack(a,b,c):\n",
    "    if a+b+c <= 21:\n",
    "        return a+b+c\n",
    "    elif a+b+c>21 and 11 in [a,b,c]:\n",
    "        sum = (a+b+c)-10\n",
    "        if sum > 21:\n",
    "            return 'BUST'\n",
    "        else:\n",
    "            return sum\n",
    "    else:\n",
    "        return 'BUST'\n",
    "    \n",
    "\n",
    "\n"
   ]
  },
  {
   "cell_type": "code",
   "execution_count": 74,
   "metadata": {},
   "outputs": [
    {
     "data": {
      "text/plain": [
       "18"
      ]
     },
     "execution_count": 74,
     "metadata": {},
     "output_type": "execute_result"
    }
   ],
   "source": [
    "blackjack(5,6,7)\n"
   ]
  },
  {
   "cell_type": "code",
   "execution_count": 85,
   "metadata": {},
   "outputs": [
    {
     "data": {
      "text/plain": [
       "'BUST'"
      ]
     },
     "execution_count": 85,
     "metadata": {},
     "output_type": "execute_result"
    }
   ],
   "source": [
    "blackjack(9,9,9)"
   ]
  },
  {
   "cell_type": "code",
   "execution_count": 86,
   "metadata": {},
   "outputs": [
    {
     "data": {
      "text/plain": [
       "'BUST'"
      ]
     },
     "execution_count": 86,
     "metadata": {},
     "output_type": "execute_result"
    }
   ],
   "source": [
    "blackjack(11,11,11)"
   ]
  },
  {
   "cell_type": "code",
   "execution_count": 156,
   "metadata": {},
   "outputs": [],
   "source": [
    "#SUMMER OF '69: \n",
    "#Return the sum of the numbers in the array,\n",
    "#except ignore sections of numbers starting with a 6 and \n",
    "#extending to the next 9 (every 6 will be followed by at least one 9). \n",
    "#Return 0 for no num\n",
    "\n",
    "\n",
    "def summer_69(arr):\n",
    "    for index,num in enumerate(arr):\n",
    "        if 6 not in arr:\n",
    "            return sum(arr)\n",
    "        if num == 6:\n",
    "            count = index\n",
    "            new_arr = arr[:count]\n",
    "            print(new_arr)\n",
    "            new_arr1 = arr[count:]\n",
    "            print(new_arr1)\n",
    "            for index1,value in enumerate(new_arr1):\n",
    "                if value == 9:\n",
    "                    count1 = index1\n",
    "                    new_arr2 = new_arr1[count1+1:]\n",
    "                    print(new_arr2)\n",
    "    return sum(new_arr)+sum(new_arr2)\n",
    "           \n",
    "    "
   ]
  },
  {
   "cell_type": "code",
   "execution_count": 155,
   "metadata": {},
   "outputs": [
    {
     "data": {
      "text/plain": [
       "9"
      ]
     },
     "execution_count": 155,
     "metadata": {},
     "output_type": "execute_result"
    }
   ],
   "source": [
    "summer_69([1, 3, 5])"
   ]
  },
  {
   "cell_type": "code",
   "execution_count": 154,
   "metadata": {},
   "outputs": [
    {
     "name": "stdout",
     "output_type": "stream",
     "text": [
      "[4, 5]\n",
      "[6, 7, 8, 9]\n",
      "[]\n"
     ]
    },
    {
     "data": {
      "text/plain": [
       "9"
      ]
     },
     "execution_count": 154,
     "metadata": {},
     "output_type": "execute_result"
    }
   ],
   "source": [
    "summer_69([4, 5, 6, 7, 8, 9])"
   ]
  },
  {
   "cell_type": "code",
   "execution_count": 153,
   "metadata": {},
   "outputs": [
    {
     "name": "stdout",
     "output_type": "stream",
     "text": [
      "[2, 1]\n",
      "[6, 9, 11]\n",
      "[11]\n"
     ]
    },
    {
     "data": {
      "text/plain": [
       "14"
      ]
     },
     "execution_count": 153,
     "metadata": {},
     "output_type": "execute_result"
    }
   ],
   "source": [
    "summer_69([2, 1, 6, 9, 11])"
   ]
  },
  {
   "cell_type": "code",
   "execution_count": 157,
   "metadata": {},
   "outputs": [
    {
     "name": "stdout",
     "output_type": "stream",
     "text": [
      "[1, 2, 3, 4, 5]\n",
      "[6, 7, 8, 9, 10, 11, 12]\n",
      "[10, 11, 12]\n"
     ]
    },
    {
     "data": {
      "text/plain": [
       "48"
      ]
     },
     "execution_count": 157,
     "metadata": {},
     "output_type": "execute_result"
    }
   ],
   "source": [
    "summer_69([1,2,3,4, 5, 6, 7, 8, 9,10,11,12])"
   ]
  },
  {
   "cell_type": "code",
   "execution_count": 208,
   "metadata": {},
   "outputs": [],
   "source": [
    "#SPY GAME: Write a function that takes in a list of integers\n",
    "#and returns True if it contains 007 in order\n",
    "\n",
    "\n",
    "def spy_game(nums):\n",
    "    \n",
    "    code = [0,0,7,'x']\n",
    "    for num in nums:\n",
    "        if num == code[0]:\n",
    "            code.pop(0)\n",
    "    return len(code) ==1 \n"
   ]
  },
  {
   "cell_type": "code",
   "execution_count": 209,
   "metadata": {},
   "outputs": [
    {
     "data": {
      "text/plain": [
       "True"
      ]
     },
     "execution_count": 209,
     "metadata": {},
     "output_type": "execute_result"
    }
   ],
   "source": [
    "spy_game([1,2,0,0,7])"
   ]
  },
  {
   "cell_type": "code",
   "execution_count": 210,
   "metadata": {},
   "outputs": [
    {
     "data": {
      "text/plain": [
       "True"
      ]
     },
     "execution_count": 210,
     "metadata": {},
     "output_type": "execute_result"
    }
   ],
   "source": [
    "spy_game([1,0,2,4,0,5,7])"
   ]
  },
  {
   "cell_type": "code",
   "execution_count": 337,
   "metadata": {},
   "outputs": [],
   "source": [
    "#COUNT PRIMES: Write a function that returns \n",
    "#the number of prime numbers \n",
    "#that exist up to and including a given number count\n",
    "    \n",
    "def count_primes(num):\n",
    "    if num<2:\n",
    "        return 0\n",
    "    primes =[2]\n",
    "    x = 3\n",
    "    while(x<=num):\n",
    "        for y in range(3,x,2):\n",
    "            if x % y == 0:\n",
    "                x = x + 2\n",
    "                break\n",
    "        else:\n",
    "            primes.append(x)\n",
    "            x = x+2\n",
    "            \n",
    "    print(primes)\n",
    "    return(len(primes))\n",
    "                \n",
    "            \n",
    "        "
   ]
  },
  {
   "cell_type": "code",
   "execution_count": 340,
   "metadata": {},
   "outputs": [
    {
     "name": "stdout",
     "output_type": "stream",
     "text": [
      "[2, 3]\n"
     ]
    },
    {
     "data": {
      "text/plain": [
       "2"
      ]
     },
     "execution_count": 340,
     "metadata": {},
     "output_type": "execute_result"
    }
   ],
   "source": [
    "count_primes(3)"
   ]
  },
  {
   "cell_type": "code",
   "execution_count": 364,
   "metadata": {},
   "outputs": [],
   "source": [
    "#PRINT BIG: Write a function that takes in a single letter, and \n",
    "#returns a 5x5 representation \n",
    "\n",
    "def print_big(letter):\n",
    "    pattern = {1:\"  * \",2:\" *  * \",3:\"******\",4:\" *  * \"}\n",
    "    alpha = {'A':[1,2,3,4,4], 'B':[1,2,3,3,4]}\n",
    "    for patterns in alpha[letter.upper()]:\n",
    "        print(pattern[patterns])\n",
    "    "
   ]
  },
  {
   "cell_type": "code",
   "execution_count": 365,
   "metadata": {},
   "outputs": [
    {
     "name": "stdout",
     "output_type": "stream",
     "text": [
      "  * \n",
      " *  * \n",
      "******\n",
      " *  * \n",
      " *  * \n"
     ]
    }
   ],
   "source": [
    "print_big('a')"
   ]
  },
  {
   "cell_type": "code",
   "execution_count": null,
   "metadata": {},
   "outputs": [],
   "source": []
  }
 ],
 "metadata": {
  "kernelspec": {
   "display_name": "Python 3",
   "language": "python",
   "name": "python3"
  },
  "language_info": {
   "codemirror_mode": {
    "name": "ipython",
    "version": 3
   },
   "file_extension": ".py",
   "mimetype": "text/x-python",
   "name": "python",
   "nbconvert_exporter": "python",
   "pygments_lexer": "ipython3",
   "version": "3.7.4"
  }
 },
 "nbformat": 4,
 "nbformat_minor": 2
}
